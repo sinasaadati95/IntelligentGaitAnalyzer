{
  "cells": [
    {
      "cell_type": "code",
      "source": [
        "from sklearn.neural_network import MLPClassifier\n",
        "import math"
      ],
      "metadata": {
        "id": "2YqC820Kzv9x"
      },
      "execution_count": 12,
      "outputs": []
    },
    {
      "cell_type": "code",
      "source": [
        "x = [\n",
        "    [98.5 , 99.60000000000001 , 100.80000000000001 , 101.4 , 102 , 102.9 , 103.2 , 103 , 100.9 , 98.7 , 81.7 , 80.10000000000001 , 77.9 , 76.10000000000001 , 74.8 , 74.3 , 76.9 , 79 , 80.2 , 80.9] ,\n",
        "    [97 , 97.4 , 98.60000000000001 , 99.5 , 100.4 , 100.5 , 100.7 , 100.30000000000001 , 99.5 , 97 , 83.30000000000001 , 81.9 , 79.7 , 78 , 77.30000000000001 , 77.9 , 79.5 , 81.5 , 82.30000000000001 , 82.9] ,\n",
        "    [96.5 , 97.7 , 98.7 , 100 , 100.9 , 101.4 , 101.10000000000001 , 100.60000000000001 , 98.30000000000001 , 83.2 , 80 , 76.10000000000001 , 73.9 , 73.3 , 73.7 , 75.60000000000001 , 78.80000000000001 , 80.9 , 82.2 , 83.30000000000001] ,\n",
        "    [95.80000000000001 , 96.4 , 96.9 , 98.10000000000001 , 99.10000000000001 , 100 , 100.2 , 99.4 , 99.2 , 97.60000000000001 , 82.10000000000001 , 80.10000000000001 , 78.80000000000001 , 78.5 , 79.10000000000001 , 79.80000000000001 , 80.10000000000001 , 81.4 , 82.7 , 82.7] ,\n",
        "    [95.30000000000001 , 95.9 , 96.10000000000001 , 96.7 , 97.5 , 97.9 , 82.10000000000001 , 81.10000000000001 , 79.5 , 78.7 , 78.7 , 78.4 , 77.9 , 77.7 , 78.4 , 80.5 , 83.2 , 84.10000000000001 , 84.80000000000001 , 84.60000000000001] ,\n",
        "    [98.10000000000001 , 98.80000000000001 , 100.10000000000001 , 101.2 , 102.10000000000001 , 102.60000000000001 , 103 , 102.7 , 102.30000000000001 , 101.60000000000001 , 100.60000000000001 , 79.7 , 77.9 , 77.4 , 78.10000000000001 , 78.80000000000001 , 79.9 , 81.5 , 82.9 , 82.9] ,\n",
        "    [97.80000000000001 , 98.2 , 98.80000000000001 , 99.30000000000001 , 99.60000000000001 , 100 , 99.80000000000001 , 99.60000000000001 , 99.4 , 99.4 , 80.4 , 80.10000000000001 , 80.2 , 80.30000000000001 , 80.4 , 80.30000000000001 , 80.30000000000001 , 81.5 , 83.60000000000001 , 84.4] ,\n",
        "    [100.9 , 101 , 101.60000000000001 , 102.2 , 103.10000000000001 , 103.2 , 103.5 , 103.2 , 103.2 , 102.9 , 77.80000000000001 , 77.9 , 78 , 77.9 , 78.80000000000001 , 79 , 79 , 79.80000000000001 , 80.4 , 81] ,\n",
        "    [100 , 100.30000000000001 , 100.80000000000001 , 100.9 , 101.10000000000001 , 101.10000000000001 , 79.10000000000001 , 79.30000000000001 , 78.9 , 77.80000000000001 , 77 , 76.60000000000001 , 76.9 , 78 , 79 , 79.7 , 80.60000000000001 , 81 , 81.10000000000001 , 80.80000000000001] ,\n",
        "    [95.5 , 95.9 , 96.60000000000001 , 97.30000000000001 , 97.9 , 98.2 , 98.2 , 97.9 , 97.7 , 97.2 , 96.2 , 83.7 , 82.7 , 83.2 , 83.60000000000001 , 84.5 , 84.4 , 84.60000000000001 , 85.5 , 85.80000000000001] ,\n",
        "\n",
        "\n",
        "    [98.5 , 101 , 105.2 , 107.10000000000001 , 107.30000000000001 , 102.5 , 94.9 , 83.80000000000001 , 75.8 , 69.2 , 63.800000000000004 , 62 , 62.5 , 62.7 , 61.1 , 61 , 64.4 , 67.7 , 73.10000000000001 , 79.9] ,\n",
        "    [104.2 , 105.5 , 107.7 , 109.60000000000001 , 110.80000000000001 , 109.9 , 105.5 , 99.10000000000001 , 79.7 , 74.7 , 68.7 , 63.6 , 60 , 58.2 , 58.6 , 61.2 , 63 , 64.5 , 67 , 71.9] ,\n",
        "    [105.10000000000001 , 106.7 , 107.9 , 109 , 109.2 , 108.5 , 104.7 , 98.4 , 78.9 , 72.7 , 66 , 62.900000000000006 , 60.900000000000006 , 61.1 , 61 , 61.900000000000006 , 65.7 , 68.2 , 72.8 , 75.4] ,\n",
        "    [98.80000000000001 , 100.80000000000001 , 103.60000000000001 , 106.2 , 108.60000000000001 , 108.7 , 105.60000000000001 , 93.80000000000001 , 82.10000000000001 , 74 , 68.5 , 64.8 , 63.6 , 63.5 , 62.6 , 62.2 , 61.800000000000004 , 65.7 , 70.5 , 76.7] ,\n",
        "    [103.2 , 103.80000000000001 , 105.9 , 106.9 , 106.80000000000001 , 104.4 , 98.80000000000001 , 80.7 , 76.80000000000001 , 69.9 , 65.5 , 62.400000000000006 , 60.5 , 60.2 , 60 , 61.5 , 65 , 67.5 , 71.3 , 75.4] ,\n",
        "    [104 , 105.30000000000001 , 106.9 , 108.30000000000001 , 109.2 , 108.10000000000001 , 105 , 79 , 76.80000000000001 , 72 , 64.10000000000001 , 59.900000000000006 , 57.5 , 56.7 , 58.2 , 61.5 , 64.8 , 69.5 , 73.7 , 76.80000000000001] ,\n",
        "    [97.80000000000001 , 98.9 , 100.60000000000001 , 102 , 101.80000000000001 , 97.10000000000001 , 87.5 , 81.60000000000001 , 73.8 , 69 , 64.2 , 61.6 , 60.800000000000004 , 60.7 , 61 , 62.7 , 67.5 , 71.5 , 77.30000000000001 , 80.30000000000001] ,\n",
        "    [103.5 , 104.4 , 105.80000000000001 , 107.30000000000001 , 107.80000000000001 , 106.80000000000001 , 102.5 , 79.5 , 74 , 69 , 62.5 , 58.800000000000004 , 57.900000000000006 , 58.800000000000004 , 60 , 60.800000000000004 , 64.3 , 66.60000000000001 , 71.7 , 75.2] ,\n",
        "    [99.80000000000001 , 100.2 , 102.2 , 104 , 104.10000000000001 , 103.2 , 97.5 , 82.4 , 74.9 , 70.8 , 66.10000000000001 , 64.2 , 63.400000000000006 , 62.900000000000006 , 62.1 , 61.7 , 63.7 , 68.7 , 73.3 , 78.80000000000001] ,\n",
        "    [102.9 , 103.7 , 105.9 , 107.30000000000001 , 108.30000000000001 , 107.5 , 105.5 , 99.4 , 82.9 , 76.4 , 70.60000000000001 , 65.5 , 61.2 , 60.1 , 61.300000000000004 , 62.6 , 63.1 , 67.3 , 70.4 , 75.4]\n",
        "\n",
        " ]\n",
        "\n",
        "\n",
        "\n",
        "y = [\n",
        "    0.0 ,\n",
        "    0.0 ,\n",
        "    0.0 ,\n",
        "    0.0 ,\n",
        "    0.0 ,\n",
        "    0.0 ,\n",
        "    0.0 ,\n",
        "    0.0 ,\n",
        "    0.0 ,\n",
        "    0.0 ,\n",
        "\n",
        "    1.0 ,\n",
        "    1.0 ,\n",
        "    1.0 ,\n",
        "    1.0 ,\n",
        "    1.0 ,\n",
        "    1.0 ,\n",
        "    1.0 ,\n",
        "    1.0 ,\n",
        "    1.0 ,\n",
        "    1.0\n",
        "    ]"
      ],
      "metadata": {
        "id": "UhfZKB9Sz7Vp"
      },
      "execution_count": 15,
      "outputs": []
    },
    {
      "cell_type": "code",
      "source": [
        "a = [ x[0] , x[1] , x[2] , x[3] , x[4] , x[5] , x[6] , x[7]  ,  x[10] , x[11] , x[12] , x[13] , x[14] , x[15] , x[16] , x[17]  ] ;\n",
        "b = [ y[0] , y[1] , y[2] , y[3] , y[4] , y[5] , y[6] , y[7]  ,  y[10] , y[11] , y[12] , y[13] , y[14] , y[15] , y[16] , y[17]  ] ;"
      ],
      "metadata": {
        "id": "sD1jj6I4-X0W"
      },
      "execution_count": 16,
      "outputs": []
    },
    {
      "cell_type": "code",
      "source": [
        "clf = MLPClassifier(solver='lbfgs', alpha=1e-5,\n",
        "                    hidden_layer_sizes=(70,50,20,10), random_state=1)"
      ],
      "metadata": {
        "id": "EDq44RFd1Ejk"
      },
      "execution_count": 17,
      "outputs": []
    },
    {
      "cell_type": "code",
      "source": [
        "clf.fit(a, b)"
      ],
      "metadata": {
        "colab": {
          "base_uri": "https://localhost:8080/",
          "height": 92
        },
        "id": "1i8I8SM-2Qce",
        "outputId": "c889374f-677a-4449-a645-9fc26aca820b"
      },
      "execution_count": 18,
      "outputs": [
        {
          "output_type": "execute_result",
          "data": {
            "text/plain": [
              "MLPClassifier(alpha=1e-05, hidden_layer_sizes=(70, 50, 20, 10), random_state=1,\n",
              "              solver='lbfgs')"
            ],
            "text/html": [
              "<style>#sk-container-id-2 {color: black;background-color: white;}#sk-container-id-2 pre{padding: 0;}#sk-container-id-2 div.sk-toggleable {background-color: white;}#sk-container-id-2 label.sk-toggleable__label {cursor: pointer;display: block;width: 100%;margin-bottom: 0;padding: 0.3em;box-sizing: border-box;text-align: center;}#sk-container-id-2 label.sk-toggleable__label-arrow:before {content: \"▸\";float: left;margin-right: 0.25em;color: #696969;}#sk-container-id-2 label.sk-toggleable__label-arrow:hover:before {color: black;}#sk-container-id-2 div.sk-estimator:hover label.sk-toggleable__label-arrow:before {color: black;}#sk-container-id-2 div.sk-toggleable__content {max-height: 0;max-width: 0;overflow: hidden;text-align: left;background-color: #f0f8ff;}#sk-container-id-2 div.sk-toggleable__content pre {margin: 0.2em;color: black;border-radius: 0.25em;background-color: #f0f8ff;}#sk-container-id-2 input.sk-toggleable__control:checked~div.sk-toggleable__content {max-height: 200px;max-width: 100%;overflow: auto;}#sk-container-id-2 input.sk-toggleable__control:checked~label.sk-toggleable__label-arrow:before {content: \"▾\";}#sk-container-id-2 div.sk-estimator input.sk-toggleable__control:checked~label.sk-toggleable__label {background-color: #d4ebff;}#sk-container-id-2 div.sk-label input.sk-toggleable__control:checked~label.sk-toggleable__label {background-color: #d4ebff;}#sk-container-id-2 input.sk-hidden--visually {border: 0;clip: rect(1px 1px 1px 1px);clip: rect(1px, 1px, 1px, 1px);height: 1px;margin: -1px;overflow: hidden;padding: 0;position: absolute;width: 1px;}#sk-container-id-2 div.sk-estimator {font-family: monospace;background-color: #f0f8ff;border: 1px dotted black;border-radius: 0.25em;box-sizing: border-box;margin-bottom: 0.5em;}#sk-container-id-2 div.sk-estimator:hover {background-color: #d4ebff;}#sk-container-id-2 div.sk-parallel-item::after {content: \"\";width: 100%;border-bottom: 1px solid gray;flex-grow: 1;}#sk-container-id-2 div.sk-label:hover label.sk-toggleable__label {background-color: #d4ebff;}#sk-container-id-2 div.sk-serial::before {content: \"\";position: absolute;border-left: 1px solid gray;box-sizing: border-box;top: 0;bottom: 0;left: 50%;z-index: 0;}#sk-container-id-2 div.sk-serial {display: flex;flex-direction: column;align-items: center;background-color: white;padding-right: 0.2em;padding-left: 0.2em;position: relative;}#sk-container-id-2 div.sk-item {position: relative;z-index: 1;}#sk-container-id-2 div.sk-parallel {display: flex;align-items: stretch;justify-content: center;background-color: white;position: relative;}#sk-container-id-2 div.sk-item::before, #sk-container-id-2 div.sk-parallel-item::before {content: \"\";position: absolute;border-left: 1px solid gray;box-sizing: border-box;top: 0;bottom: 0;left: 50%;z-index: -1;}#sk-container-id-2 div.sk-parallel-item {display: flex;flex-direction: column;z-index: 1;position: relative;background-color: white;}#sk-container-id-2 div.sk-parallel-item:first-child::after {align-self: flex-end;width: 50%;}#sk-container-id-2 div.sk-parallel-item:last-child::after {align-self: flex-start;width: 50%;}#sk-container-id-2 div.sk-parallel-item:only-child::after {width: 0;}#sk-container-id-2 div.sk-dashed-wrapped {border: 1px dashed gray;margin: 0 0.4em 0.5em 0.4em;box-sizing: border-box;padding-bottom: 0.4em;background-color: white;}#sk-container-id-2 div.sk-label label {font-family: monospace;font-weight: bold;display: inline-block;line-height: 1.2em;}#sk-container-id-2 div.sk-label-container {text-align: center;}#sk-container-id-2 div.sk-container {/* jupyter's `normalize.less` sets `[hidden] { display: none; }` but bootstrap.min.css set `[hidden] { display: none !important; }` so we also need the `!important` here to be able to override the default hidden behavior on the sphinx rendered scikit-learn.org. See: https://github.com/scikit-learn/scikit-learn/issues/21755 */display: inline-block !important;position: relative;}#sk-container-id-2 div.sk-text-repr-fallback {display: none;}</style><div id=\"sk-container-id-2\" class=\"sk-top-container\"><div class=\"sk-text-repr-fallback\"><pre>MLPClassifier(alpha=1e-05, hidden_layer_sizes=(70, 50, 20, 10), random_state=1,\n",
              "              solver=&#x27;lbfgs&#x27;)</pre><b>In a Jupyter environment, please rerun this cell to show the HTML representation or trust the notebook. <br />On GitHub, the HTML representation is unable to render, please try loading this page with nbviewer.org.</b></div><div class=\"sk-container\" hidden><div class=\"sk-item\"><div class=\"sk-estimator sk-toggleable\"><input class=\"sk-toggleable__control sk-hidden--visually\" id=\"sk-estimator-id-2\" type=\"checkbox\" checked><label for=\"sk-estimator-id-2\" class=\"sk-toggleable__label sk-toggleable__label-arrow\">MLPClassifier</label><div class=\"sk-toggleable__content\"><pre>MLPClassifier(alpha=1e-05, hidden_layer_sizes=(70, 50, 20, 10), random_state=1,\n",
              "              solver=&#x27;lbfgs&#x27;)</pre></div></div></div></div></div>"
            ]
          },
          "metadata": {},
          "execution_count": 18
        }
      ]
    },
    {
      "cell_type": "code",
      "source": [
        "x_test = [ x[8] , x[18] , x[9] , x[19] ] ;"
      ],
      "metadata": {
        "id": "5pM5pBVN-9ye"
      },
      "execution_count": 19,
      "outputs": []
    },
    {
      "cell_type": "code",
      "source": [
        "clf.predict(x_test)"
      ],
      "metadata": {
        "colab": {
          "base_uri": "https://localhost:8080/"
        },
        "id": "ovOcYOiZ1qfA",
        "outputId": "224ab363-e9b8-49a5-88e2-74e67d53854b"
      },
      "execution_count": 20,
      "outputs": [
        {
          "output_type": "execute_result",
          "data": {
            "text/plain": [
              "array([0., 1., 0., 1.])"
            ]
          },
          "metadata": {},
          "execution_count": 20
        }
      ]
    }
  ],
  "metadata": {
    "colab": {
      "name": "Welcome To Colab",
      "provenance": []
    },
    "kernelspec": {
      "display_name": "Python 3",
      "name": "python3"
    }
  },
  "nbformat": 4,
  "nbformat_minor": 0
}