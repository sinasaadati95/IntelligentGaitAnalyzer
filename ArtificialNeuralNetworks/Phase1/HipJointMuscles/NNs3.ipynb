{
  "cells": [
    {
      "cell_type": "code",
      "source": [
        "from sklearn.neural_network import MLPClassifier\n",
        "import math\n",
        "import random\n",
        "import numpy as np\n"
      ],
      "metadata": {
        "id": "2YqC820Kzv9x"
      },
      "execution_count": 36,
      "outputs": []
    },
    {
      "cell_type": "code",
      "source": [
        "x = [\n",
        "    [98.5 , 99.60000000000001 , 100.80000000000001 , 101.4 , 102 , 102.9 , 103.2 , 103 , 100.9 , 98.7 , 81.7 , 80.10000000000001 , 77.9 , 76.10000000000001 , 74.8 , 74.3 , 76.9 , 79 , 80.2 , 80.9] ,\n",
        "    [97 , 97.4 , 98.60000000000001 , 99.5 , 100.4 , 100.5 , 100.7 , 100.30000000000001 , 99.5 , 97 , 83.30000000000001 , 81.9 , 79.7 , 78 , 77.30000000000001 , 77.9 , 79.5 , 81.5 , 82.30000000000001 , 82.9] ,\n",
        "    [96.5 , 97.7 , 98.7 , 100 , 100.9 , 101.4 , 101.10000000000001 , 100.60000000000001 , 98.30000000000001 , 83.2 , 80 , 76.10000000000001 , 73.9 , 73.3 , 73.7 , 75.60000000000001 , 78.80000000000001 , 80.9 , 82.2 , 83.30000000000001] ,\n",
        "    [95.80000000000001 , 96.4 , 96.9 , 98.10000000000001 , 99.10000000000001 , 100 , 100.2 , 99.4 , 99.2 , 97.60000000000001 , 82.10000000000001 , 80.10000000000001 , 78.80000000000001 , 78.5 , 79.10000000000001 , 79.80000000000001 , 80.10000000000001 , 81.4 , 82.7 , 82.7] ,\n",
        "    [95.30000000000001 , 95.9 , 96.10000000000001 , 96.7 , 97.5 , 97.9 , 82.10000000000001 , 81.10000000000001 , 79.5 , 78.7 , 78.7 , 78.4 , 77.9 , 77.7 , 78.4 , 80.5 , 83.2 , 84.10000000000001 , 84.80000000000001 , 84.60000000000001] ,\n",
        "    [98.10000000000001 , 98.80000000000001 , 100.10000000000001 , 101.2 , 102.10000000000001 , 102.60000000000001 , 103 , 102.7 , 102.30000000000001 , 101.60000000000001 , 100.60000000000001 , 79.7 , 77.9 , 77.4 , 78.10000000000001 , 78.80000000000001 , 79.9 , 81.5 , 82.9 , 82.9] ,\n",
        "    [97.80000000000001 , 98.2 , 98.80000000000001 , 99.30000000000001 , 99.60000000000001 , 100 , 99.80000000000001 , 99.60000000000001 , 99.4 , 99.4 , 80.4 , 80.10000000000001 , 80.2 , 80.30000000000001 , 80.4 , 80.30000000000001 , 80.30000000000001 , 81.5 , 83.60000000000001 , 84.4] ,\n",
        "    [100.9 , 101 , 101.60000000000001 , 102.2 , 103.10000000000001 , 103.2 , 103.5 , 103.2 , 103.2 , 102.9 , 77.80000000000001 , 77.9 , 78 , 77.9 , 78.80000000000001 , 79 , 79 , 79.80000000000001 , 80.4 , 81] ,\n",
        "    [100 , 100.30000000000001 , 100.80000000000001 , 100.9 , 101.10000000000001 , 101.10000000000001 , 79.10000000000001 , 79.30000000000001 , 78.9 , 77.80000000000001 , 77 , 76.60000000000001 , 76.9 , 78 , 79 , 79.7 , 80.60000000000001 , 81 , 81.10000000000001 , 80.80000000000001] ,\n",
        "    [95.5 , 95.9 , 96.60000000000001 , 97.30000000000001 , 97.9 , 98.2 , 98.2 , 97.9 , 97.7 , 97.2 , 96.2 , 83.7 , 82.7 , 83.2 , 83.60000000000001 , 84.5 , 84.4 , 84.60000000000001 , 85.5 , 85.80000000000001] ,\n",
        "\n",
        "\n",
        "    [98.5 , 101 , 105.2 , 107.10000000000001 , 107.30000000000001 , 102.5 , 94.9 , 83.80000000000001 , 75.8 , 69.2 , 63.800000000000004 , 62 , 62.5 , 62.7 , 61.1 , 61 , 64.4 , 67.7 , 73.10000000000001 , 79.9] ,\n",
        "    [104.2 , 105.5 , 107.7 , 109.60000000000001 , 110.80000000000001 , 109.9 , 105.5 , 99.10000000000001 , 79.7 , 74.7 , 68.7 , 63.6 , 60 , 58.2 , 58.6 , 61.2 , 63 , 64.5 , 67 , 71.9] ,\n",
        "    [105.10000000000001 , 106.7 , 107.9 , 109 , 109.2 , 108.5 , 104.7 , 98.4 , 78.9 , 72.7 , 66 , 62.900000000000006 , 60.900000000000006 , 61.1 , 61 , 61.900000000000006 , 65.7 , 68.2 , 72.8 , 75.4] ,\n",
        "    [98.80000000000001 , 100.80000000000001 , 103.60000000000001 , 106.2 , 108.60000000000001 , 108.7 , 105.60000000000001 , 93.80000000000001 , 82.10000000000001 , 74 , 68.5 , 64.8 , 63.6 , 63.5 , 62.6 , 62.2 , 61.800000000000004 , 65.7 , 70.5 , 76.7] ,\n",
        "    [103.2 , 103.80000000000001 , 105.9 , 106.9 , 106.80000000000001 , 104.4 , 98.80000000000001 , 80.7 , 76.80000000000001 , 69.9 , 65.5 , 62.400000000000006 , 60.5 , 60.2 , 60 , 61.5 , 65 , 67.5 , 71.3 , 75.4] ,\n",
        "    [104 , 105.30000000000001 , 106.9 , 108.30000000000001 , 109.2 , 108.10000000000001 , 105 , 79 , 76.80000000000001 , 72 , 64.10000000000001 , 59.900000000000006 , 57.5 , 56.7 , 58.2 , 61.5 , 64.8 , 69.5 , 73.7 , 76.80000000000001] ,\n",
        "    [97.80000000000001 , 98.9 , 100.60000000000001 , 102 , 101.80000000000001 , 97.10000000000001 , 87.5 , 81.60000000000001 , 73.8 , 69 , 64.2 , 61.6 , 60.800000000000004 , 60.7 , 61 , 62.7 , 67.5 , 71.5 , 77.30000000000001 , 80.30000000000001] ,\n",
        "    [103.5 , 104.4 , 105.80000000000001 , 107.30000000000001 , 107.80000000000001 , 106.80000000000001 , 102.5 , 79.5 , 74 , 69 , 62.5 , 58.800000000000004 , 57.900000000000006 , 58.800000000000004 , 60 , 60.800000000000004 , 64.3 , 66.60000000000001 , 71.7 , 75.2] ,\n",
        "    [99.80000000000001 , 100.2 , 102.2 , 104 , 104.10000000000001 , 103.2 , 97.5 , 82.4 , 74.9 , 70.8 , 66.10000000000001 , 64.2 , 63.400000000000006 , 62.900000000000006 , 62.1 , 61.7 , 63.7 , 68.7 , 73.3 , 78.80000000000001] ,\n",
        "    [102.9 , 103.7 , 105.9 , 107.30000000000001 , 108.30000000000001 , 107.5 , 105.5 , 99.4 , 82.9 , 76.4 , 70.60000000000001 , 65.5 , 61.2 , 60.1 , 61.300000000000004 , 62.6 , 63.1 , 67.3 , 70.4 , 75.4]\n",
        "\n",
        " ]\n",
        "\n",
        "\n",
        "\n",
        "y = [\n",
        "    0.0 ,\n",
        "    0.0 ,\n",
        "    0.0 ,\n",
        "    0.0 ,\n",
        "    0.0 ,\n",
        "    0.0 ,\n",
        "    0.0 ,\n",
        "    0.0 ,\n",
        "    0.0 ,\n",
        "    0.0 ,\n",
        "\n",
        "    1.0 ,\n",
        "    1.0 ,\n",
        "    1.0 ,\n",
        "    1.0 ,\n",
        "    1.0 ,\n",
        "    1.0 ,\n",
        "    1.0 ,\n",
        "    1.0 ,\n",
        "    1.0 ,\n",
        "    1.0\n",
        "    ]"
      ],
      "metadata": {
        "id": "UhfZKB9Sz7Vp"
      },
      "execution_count": 37,
      "outputs": []
    },
    {
      "cell_type": "code",
      "source": [
        "a = [ x[0]   ,  x[10] , x[1], x[11] , x[12] , x[3], x[13] , x[2]   ] ;\n",
        "b = [ y[0]   ,  y[10] , y[1], y[11] , y[12] , y[3], y[13] , y[2]   ] ;"
      ],
      "metadata": {
        "id": "sD1jj6I4-X0W"
      },
      "execution_count": 38,
      "outputs": []
    },
    {
      "cell_type": "code",
      "source": [
        "dataset_x = []\n",
        "dataset_y = []\n",
        "\n",
        "for k in range(len(a)):\n",
        "      data = a[k]\n",
        "      for i in range(50):\n",
        "            nx = []\n",
        "            for j in range(20):\n",
        "                  nx.append(data[j] + (2.1 * random.random())) ;\n",
        "            dataset_x.append(nx) ;\n",
        "            dataset_y.append(b[k]) ;\n",
        "\n",
        "print(np.array(dataset_x))\n",
        "print(np.array(dataset_y))"
      ],
      "metadata": {
        "id": "D37xad9xARaB",
        "outputId": "fb9ffa0f-e406-4006-e319-4487979b46f5",
        "colab": {
          "base_uri": "https://localhost:8080/"
        }
      },
      "execution_count": 39,
      "outputs": [
        {
          "output_type": "stream",
          "name": "stdout",
          "text": [
            "[[ 99.69775351 100.09594133 101.13666172 ...  80.19626702  81.34968971\n",
            "   82.863307  ]\n",
            " [ 98.71634497  99.95764818 101.41786184 ...  81.00641648  80.8547032\n",
            "   82.24440142]\n",
            " [ 99.20140628 100.63444521 101.43791547 ...  80.70034056  80.35872666\n",
            "   81.58547233]\n",
            " ...\n",
            " [ 97.49218322  99.24788734  99.0769476  ...  82.64380468  83.37945334\n",
            "   83.85320877]\n",
            " [ 98.42864848  98.71467513  99.51158404 ...  82.77255278  82.96643768\n",
            "   83.31963657]\n",
            " [ 97.7204436   99.76344652  99.31988515 ...  80.97049508  82.34419621\n",
            "   84.15820295]]\n",
            "[0. 0. 0. 0. 0. 0. 0. 0. 0. 0. 0. 0. 0. 0. 0. 0. 0. 0. 0. 0. 0. 0. 0. 0.\n",
            " 0. 0. 0. 0. 0. 0. 0. 0. 0. 0. 0. 0. 0. 0. 0. 0. 0. 0. 0. 0. 0. 0. 0. 0.\n",
            " 0. 0. 1. 1. 1. 1. 1. 1. 1. 1. 1. 1. 1. 1. 1. 1. 1. 1. 1. 1. 1. 1. 1. 1.\n",
            " 1. 1. 1. 1. 1. 1. 1. 1. 1. 1. 1. 1. 1. 1. 1. 1. 1. 1. 1. 1. 1. 1. 1. 1.\n",
            " 1. 1. 1. 1. 0. 0. 0. 0. 0. 0. 0. 0. 0. 0. 0. 0. 0. 0. 0. 0. 0. 0. 0. 0.\n",
            " 0. 0. 0. 0. 0. 0. 0. 0. 0. 0. 0. 0. 0. 0. 0. 0. 0. 0. 0. 0. 0. 0. 0. 0.\n",
            " 0. 0. 0. 0. 0. 0. 1. 1. 1. 1. 1. 1. 1. 1. 1. 1. 1. 1. 1. 1. 1. 1. 1. 1.\n",
            " 1. 1. 1. 1. 1. 1. 1. 1. 1. 1. 1. 1. 1. 1. 1. 1. 1. 1. 1. 1. 1. 1. 1. 1.\n",
            " 1. 1. 1. 1. 1. 1. 1. 1. 1. 1. 1. 1. 1. 1. 1. 1. 1. 1. 1. 1. 1. 1. 1. 1.\n",
            " 1. 1. 1. 1. 1. 1. 1. 1. 1. 1. 1. 1. 1. 1. 1. 1. 1. 1. 1. 1. 1. 1. 1. 1.\n",
            " 1. 1. 1. 1. 1. 1. 1. 1. 1. 1. 0. 0. 0. 0. 0. 0. 0. 0. 0. 0. 0. 0. 0. 0.\n",
            " 0. 0. 0. 0. 0. 0. 0. 0. 0. 0. 0. 0. 0. 0. 0. 0. 0. 0. 0. 0. 0. 0. 0. 0.\n",
            " 0. 0. 0. 0. 0. 0. 0. 0. 0. 0. 0. 0. 1. 1. 1. 1. 1. 1. 1. 1. 1. 1. 1. 1.\n",
            " 1. 1. 1. 1. 1. 1. 1. 1. 1. 1. 1. 1. 1. 1. 1. 1. 1. 1. 1. 1. 1. 1. 1. 1.\n",
            " 1. 1. 1. 1. 1. 1. 1. 1. 1. 1. 1. 1. 1. 1. 0. 0. 0. 0. 0. 0. 0. 0. 0. 0.\n",
            " 0. 0. 0. 0. 0. 0. 0. 0. 0. 0. 0. 0. 0. 0. 0. 0. 0. 0. 0. 0. 0. 0. 0. 0.\n",
            " 0. 0. 0. 0. 0. 0. 0. 0. 0. 0. 0. 0. 0. 0. 0. 0.]\n"
          ]
        }
      ]
    },
    {
      "cell_type": "code",
      "source": [
        "clf = MLPClassifier(solver='lbfgs', alpha=1e-5,\n",
        "                    hidden_layer_sizes=(70,50,20,10), random_state=1)"
      ],
      "metadata": {
        "id": "EDq44RFd1Ejk"
      },
      "execution_count": 40,
      "outputs": []
    },
    {
      "cell_type": "code",
      "source": [
        "clf.fit(a, b)"
      ],
      "metadata": {
        "colab": {
          "base_uri": "https://localhost:8080/",
          "height": 92
        },
        "id": "1i8I8SM-2Qce",
        "outputId": "aa7b0041-4d1e-47d6-d250-67707234872d"
      },
      "execution_count": 41,
      "outputs": [
        {
          "output_type": "execute_result",
          "data": {
            "text/plain": [
              "MLPClassifier(alpha=1e-05, hidden_layer_sizes=(70, 50, 20, 10), random_state=1,\n",
              "              solver='lbfgs')"
            ],
            "text/html": [
              "<style>#sk-container-id-3 {color: black;background-color: white;}#sk-container-id-3 pre{padding: 0;}#sk-container-id-3 div.sk-toggleable {background-color: white;}#sk-container-id-3 label.sk-toggleable__label {cursor: pointer;display: block;width: 100%;margin-bottom: 0;padding: 0.3em;box-sizing: border-box;text-align: center;}#sk-container-id-3 label.sk-toggleable__label-arrow:before {content: \"▸\";float: left;margin-right: 0.25em;color: #696969;}#sk-container-id-3 label.sk-toggleable__label-arrow:hover:before {color: black;}#sk-container-id-3 div.sk-estimator:hover label.sk-toggleable__label-arrow:before {color: black;}#sk-container-id-3 div.sk-toggleable__content {max-height: 0;max-width: 0;overflow: hidden;text-align: left;background-color: #f0f8ff;}#sk-container-id-3 div.sk-toggleable__content pre {margin: 0.2em;color: black;border-radius: 0.25em;background-color: #f0f8ff;}#sk-container-id-3 input.sk-toggleable__control:checked~div.sk-toggleable__content {max-height: 200px;max-width: 100%;overflow: auto;}#sk-container-id-3 input.sk-toggleable__control:checked~label.sk-toggleable__label-arrow:before {content: \"▾\";}#sk-container-id-3 div.sk-estimator input.sk-toggleable__control:checked~label.sk-toggleable__label {background-color: #d4ebff;}#sk-container-id-3 div.sk-label input.sk-toggleable__control:checked~label.sk-toggleable__label {background-color: #d4ebff;}#sk-container-id-3 input.sk-hidden--visually {border: 0;clip: rect(1px 1px 1px 1px);clip: rect(1px, 1px, 1px, 1px);height: 1px;margin: -1px;overflow: hidden;padding: 0;position: absolute;width: 1px;}#sk-container-id-3 div.sk-estimator {font-family: monospace;background-color: #f0f8ff;border: 1px dotted black;border-radius: 0.25em;box-sizing: border-box;margin-bottom: 0.5em;}#sk-container-id-3 div.sk-estimator:hover {background-color: #d4ebff;}#sk-container-id-3 div.sk-parallel-item::after {content: \"\";width: 100%;border-bottom: 1px solid gray;flex-grow: 1;}#sk-container-id-3 div.sk-label:hover label.sk-toggleable__label {background-color: #d4ebff;}#sk-container-id-3 div.sk-serial::before {content: \"\";position: absolute;border-left: 1px solid gray;box-sizing: border-box;top: 0;bottom: 0;left: 50%;z-index: 0;}#sk-container-id-3 div.sk-serial {display: flex;flex-direction: column;align-items: center;background-color: white;padding-right: 0.2em;padding-left: 0.2em;position: relative;}#sk-container-id-3 div.sk-item {position: relative;z-index: 1;}#sk-container-id-3 div.sk-parallel {display: flex;align-items: stretch;justify-content: center;background-color: white;position: relative;}#sk-container-id-3 div.sk-item::before, #sk-container-id-3 div.sk-parallel-item::before {content: \"\";position: absolute;border-left: 1px solid gray;box-sizing: border-box;top: 0;bottom: 0;left: 50%;z-index: -1;}#sk-container-id-3 div.sk-parallel-item {display: flex;flex-direction: column;z-index: 1;position: relative;background-color: white;}#sk-container-id-3 div.sk-parallel-item:first-child::after {align-self: flex-end;width: 50%;}#sk-container-id-3 div.sk-parallel-item:last-child::after {align-self: flex-start;width: 50%;}#sk-container-id-3 div.sk-parallel-item:only-child::after {width: 0;}#sk-container-id-3 div.sk-dashed-wrapped {border: 1px dashed gray;margin: 0 0.4em 0.5em 0.4em;box-sizing: border-box;padding-bottom: 0.4em;background-color: white;}#sk-container-id-3 div.sk-label label {font-family: monospace;font-weight: bold;display: inline-block;line-height: 1.2em;}#sk-container-id-3 div.sk-label-container {text-align: center;}#sk-container-id-3 div.sk-container {/* jupyter's `normalize.less` sets `[hidden] { display: none; }` but bootstrap.min.css set `[hidden] { display: none !important; }` so we also need the `!important` here to be able to override the default hidden behavior on the sphinx rendered scikit-learn.org. See: https://github.com/scikit-learn/scikit-learn/issues/21755 */display: inline-block !important;position: relative;}#sk-container-id-3 div.sk-text-repr-fallback {display: none;}</style><div id=\"sk-container-id-3\" class=\"sk-top-container\"><div class=\"sk-text-repr-fallback\"><pre>MLPClassifier(alpha=1e-05, hidden_layer_sizes=(70, 50, 20, 10), random_state=1,\n",
              "              solver=&#x27;lbfgs&#x27;)</pre><b>In a Jupyter environment, please rerun this cell to show the HTML representation or trust the notebook. <br />On GitHub, the HTML representation is unable to render, please try loading this page with nbviewer.org.</b></div><div class=\"sk-container\" hidden><div class=\"sk-item\"><div class=\"sk-estimator sk-toggleable\"><input class=\"sk-toggleable__control sk-hidden--visually\" id=\"sk-estimator-id-3\" type=\"checkbox\" checked><label for=\"sk-estimator-id-3\" class=\"sk-toggleable__label sk-toggleable__label-arrow\">MLPClassifier</label><div class=\"sk-toggleable__content\"><pre>MLPClassifier(alpha=1e-05, hidden_layer_sizes=(70, 50, 20, 10), random_state=1,\n",
              "              solver=&#x27;lbfgs&#x27;)</pre></div></div></div></div></div>"
            ]
          },
          "metadata": {},
          "execution_count": 41
        }
      ]
    },
    {
      "cell_type": "code",
      "source": [
        "x_test = [  x[4] , x[5] , x[6] , x[7] , x[8] ,  x[9] ,  x[14] , x[15] , x[16] , x[17] , x[18] , x[19] ] ;"
      ],
      "metadata": {
        "id": "5pM5pBVN-9ye"
      },
      "execution_count": 42,
      "outputs": []
    },
    {
      "cell_type": "code",
      "source": [
        "clf.predict(x_test)"
      ],
      "metadata": {
        "colab": {
          "base_uri": "https://localhost:8080/"
        },
        "id": "ovOcYOiZ1qfA",
        "outputId": "ceda32f3-178e-4e60-9282-a0b27eec9391"
      },
      "execution_count": 44,
      "outputs": [
        {
          "output_type": "execute_result",
          "data": {
            "text/plain": [
              "array([0., 0., 0., 0., 0., 0., 1., 1., 1., 1., 1., 1.])"
            ]
          },
          "metadata": {},
          "execution_count": 44
        }
      ]
    },
    {
      "cell_type": "markdown",
      "source": [
        "***Accuracy = 100%***"
      ],
      "metadata": {
        "id": "g1Rz0wV_DQ3f"
      }
    },
    {
      "cell_type": "code",
      "source": [
        "dataset_x_test = x_test ;\n",
        "dataset_y_test = [ 0.0,0.0,0.0,0.0,0.0,0.0,1.0,1.0,1.0,1.0,1.0,1.0,] ;\n",
        "\n",
        "testX = []\n",
        "testY = []\n",
        "\n",
        "for k in range(len(dataset_x_test)):\n",
        "      data = dataset_x_test[k]\n",
        "      for i in range(50):\n",
        "            nx = []\n",
        "            for j in range(20):\n",
        "                  nx.append(data[j] + (2.1 * random.random())) ;\n",
        "            testX.append(nx) ;\n",
        "            testY.append(dataset_y_test[k]) ;\n",
        "\n",
        "print(np.array(testX))\n",
        "print(np.array(testY))"
      ],
      "metadata": {
        "id": "2MToktS5DQCp",
        "outputId": "3740af5f-43aa-4ee5-d4f5-8b4b86b69bd4",
        "colab": {
          "base_uri": "https://localhost:8080/"
        }
      },
      "execution_count": 46,
      "outputs": [
        {
          "output_type": "stream",
          "name": "stdout",
          "text": [
            "[[ 97.31053062  96.72681867  97.64228304 ...  86.08175622  85.82198422\n",
            "   85.0043413 ]\n",
            " [ 97.03964473  97.55071732  97.83198022 ...  85.07558473  86.1032843\n",
            "   86.37912475]\n",
            " [ 96.93414904  96.05610119  98.11709497 ...  86.09732618  86.7132214\n",
            "   84.75820999]\n",
            " ...\n",
            " [103.1816863  104.62283035 107.15031406 ...  68.14208682  72.21875824\n",
            "   76.05254365]\n",
            " [103.7015524  104.75969304 106.29056778 ...  67.53884081  72.26723552\n",
            "   76.54119132]\n",
            " [104.97878593 104.33781444 105.91268312 ...  69.32178375  71.87357686\n",
            "   77.11790192]]\n",
            "[0. 0. 0. 0. 0. 0. 0. 0. 0. 0. 0. 0. 0. 0. 0. 0. 0. 0. 0. 0. 0. 0. 0. 0.\n",
            " 0. 0. 0. 0. 0. 0. 0. 0. 0. 0. 0. 0. 0. 0. 0. 0. 0. 0. 0. 0. 0. 0. 0. 0.\n",
            " 0. 0. 0. 0. 0. 0. 0. 0. 0. 0. 0. 0. 0. 0. 0. 0. 0. 0. 0. 0. 0. 0. 0. 0.\n",
            " 0. 0. 0. 0. 0. 0. 0. 0. 0. 0. 0. 0. 0. 0. 0. 0. 0. 0. 0. 0. 0. 0. 0. 0.\n",
            " 0. 0. 0. 0. 0. 0. 0. 0. 0. 0. 0. 0. 0. 0. 0. 0. 0. 0. 0. 0. 0. 0. 0. 0.\n",
            " 0. 0. 0. 0. 0. 0. 0. 0. 0. 0. 0. 0. 0. 0. 0. 0. 0. 0. 0. 0. 0. 0. 0. 0.\n",
            " 0. 0. 0. 0. 0. 0. 0. 0. 0. 0. 0. 0. 0. 0. 0. 0. 0. 0. 0. 0. 0. 0. 0. 0.\n",
            " 0. 0. 0. 0. 0. 0. 0. 0. 0. 0. 0. 0. 0. 0. 0. 0. 0. 0. 0. 0. 0. 0. 0. 0.\n",
            " 0. 0. 0. 0. 0. 0. 0. 0. 0. 0. 0. 0. 0. 0. 0. 0. 0. 0. 0. 0. 0. 0. 0. 0.\n",
            " 0. 0. 0. 0. 0. 0. 0. 0. 0. 0. 0. 0. 0. 0. 0. 0. 0. 0. 0. 0. 0. 0. 0. 0.\n",
            " 0. 0. 0. 0. 0. 0. 0. 0. 0. 0. 0. 0. 0. 0. 0. 0. 0. 0. 0. 0. 0. 0. 0. 0.\n",
            " 0. 0. 0. 0. 0. 0. 0. 0. 0. 0. 0. 0. 0. 0. 0. 0. 0. 0. 0. 0. 0. 0. 0. 0.\n",
            " 0. 0. 0. 0. 0. 0. 0. 0. 0. 0. 0. 0. 1. 1. 1. 1. 1. 1. 1. 1. 1. 1. 1. 1.\n",
            " 1. 1. 1. 1. 1. 1. 1. 1. 1. 1. 1. 1. 1. 1. 1. 1. 1. 1. 1. 1. 1. 1. 1. 1.\n",
            " 1. 1. 1. 1. 1. 1. 1. 1. 1. 1. 1. 1. 1. 1. 1. 1. 1. 1. 1. 1. 1. 1. 1. 1.\n",
            " 1. 1. 1. 1. 1. 1. 1. 1. 1. 1. 1. 1. 1. 1. 1. 1. 1. 1. 1. 1. 1. 1. 1. 1.\n",
            " 1. 1. 1. 1. 1. 1. 1. 1. 1. 1. 1. 1. 1. 1. 1. 1. 1. 1. 1. 1. 1. 1. 1. 1.\n",
            " 1. 1. 1. 1. 1. 1. 1. 1. 1. 1. 1. 1. 1. 1. 1. 1. 1. 1. 1. 1. 1. 1. 1. 1.\n",
            " 1. 1. 1. 1. 1. 1. 1. 1. 1. 1. 1. 1. 1. 1. 1. 1. 1. 1. 1. 1. 1. 1. 1. 1.\n",
            " 1. 1. 1. 1. 1. 1. 1. 1. 1. 1. 1. 1. 1. 1. 1. 1. 1. 1. 1. 1. 1. 1. 1. 1.\n",
            " 1. 1. 1. 1. 1. 1. 1. 1. 1. 1. 1. 1. 1. 1. 1. 1. 1. 1. 1. 1. 1. 1. 1. 1.\n",
            " 1. 1. 1. 1. 1. 1. 1. 1. 1. 1. 1. 1. 1. 1. 1. 1. 1. 1. 1. 1. 1. 1. 1. 1.\n",
            " 1. 1. 1. 1. 1. 1. 1. 1. 1. 1. 1. 1. 1. 1. 1. 1. 1. 1. 1. 1. 1. 1. 1. 1.\n",
            " 1. 1. 1. 1. 1. 1. 1. 1. 1. 1. 1. 1. 1. 1. 1. 1. 1. 1. 1. 1. 1. 1. 1. 1.\n",
            " 1. 1. 1. 1. 1. 1. 1. 1. 1. 1. 1. 1. 1. 1. 1. 1. 1. 1. 1. 1. 1. 1. 1. 1.]\n"
          ]
        }
      ]
    },
    {
      "cell_type": "code",
      "source": [
        "preds = clf.predict(testX)"
      ],
      "metadata": {
        "id": "zTTuR2pSEDpK"
      },
      "execution_count": 47,
      "outputs": []
    },
    {
      "cell_type": "code",
      "source": [
        "correct = 0\n",
        "wrong = 0\n",
        "for i in range(len(preds)):\n",
        "    if(preds[i] == testY[i]):\n",
        "        correct += 1 ;\n",
        "    else:\n",
        "        wrong += 1 ;\n",
        "\n",
        "\n",
        "print(\"Corrects = \" + str(correct)) ;\n",
        "print(\"Wrongs = \" + str(wrong)) ;"
      ],
      "metadata": {
        "id": "N54gMvsLEJUe",
        "outputId": "d4511d5d-3090-4f29-c71b-f6a93e71af92",
        "colab": {
          "base_uri": "https://localhost:8080/"
        }
      },
      "execution_count": 49,
      "outputs": [
        {
          "output_type": "stream",
          "name": "stdout",
          "text": [
            "Corrects = 600\n",
            "Wrongs = 0\n"
          ]
        }
      ]
    },
    {
      "cell_type": "markdown",
      "source": [
        "***Again, accuracy = 100.00 % ***"
      ],
      "metadata": {
        "id": "0pUHm6fFErse"
      }
    },
    {
      "cell_type": "markdown",
      "source": [
        "Sina Saadati\n",
        "\n",
        "autmedical@gmail.com\n"
      ],
      "metadata": {
        "id": "SXMLwmNRC6YX"
      }
    }
  ],
  "metadata": {
    "colab": {
      "name": "Welcome To Colab",
      "provenance": []
    },
    "kernelspec": {
      "display_name": "Python 3",
      "name": "python3"
    }
  },
  "nbformat": 4,
  "nbformat_minor": 0
}