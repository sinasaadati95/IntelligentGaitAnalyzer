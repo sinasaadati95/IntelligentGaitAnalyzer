{
  "cells": [
    {
      "cell_type": "code",
      "source": [
        "from sklearn.neural_network import MLPClassifier\n",
        "import math\n",
        "import random\n",
        "import numpy as np"
      ],
      "metadata": {
        "id": "2YqC820Kzv9x"
      },
      "execution_count": 19,
      "outputs": []
    },
    {
      "cell_type": "code",
      "source": [
        "x = [\n",
        "    [ 7.8606180328084365  ,  60.47495901720505  ,  174.46031031126037  ,  175.24952117641823  ,  73.1552733953383  ,  0.0  ,  0.0  ,  0.0  ,  0.0  ,  144.78865594207943  ,  1893.503804412224  ,  147.96896212499863  ,  25.158789619011067  ,  39.49266177208007  ,  25.484604275940306  ,  10.65146939938493  ,  0.0  ,  0.0  ,  19.804262445958813  ,  0.0 ,  51.22689619219253  ,  108.14821104599366  ,  110.99006881122695  ,  109.72919162481226  ,  119.45726611208602  ,  426.2932006862404  ,  1015.0208109990305  ,  1927.634684689802  ,  2944.479440850673  ,  3926.7783377116098  ,  1739.631007683126  ,  100.0455505008284  ,  0.0  ,  0.0  ,  0.0  ,  0.0  ,  2.182223909370396  ,  1.3299547119584993  ,  0.0  ,  25.378853234740085     ]  ,\n",
        "    [ 37.92339799756102  ,  154.76442758160883  ,  277.21215747402556  ,  254.03724519928784  ,  105.03656636309836  ,  0.0  ,  0.0  ,  0.0  ,  0.0  ,  96.20742870632041  ,  1118.2206293630234  ,  100.4256743583899  ,  20.672911411931985  ,  36.46314044158227  ,  22.680477402990405  ,  10.036243860663934  ,  0.0  ,  0.8224302317902809  ,  19.104696530268374  ,  0.0   ,  51.25382636429518  ,  108.38342238516482  ,  111.49401303907007  ,  110.09189408901888  ,  119.52136005951796  ,  454.03429631233485  ,  1133.6257661090754  ,  2111.60025145194  ,  3036.240461848615  ,  3231.8539808585906  ,  1401.5527025828785  ,  78.34232464432729  ,  0.0  ,  0.0  ,  0.0  ,  0.0  ,  3.948470486618428  ,  0.0  ,  0.0  ,  32.06018054356397    ] ,\n",
        "    [ 0.0  ,  0.0  ,  102.33070053970123  ,  127.66637688767595  ,  92.42072087112453  ,  0.0  ,  0.0  ,  0.0  ,  0.0  ,  72.33158062687616  ,  2073.4328997437933  ,  358.8311631489985  ,  36.27858270278335  ,  41.75818231864335  ,  6.69927641013272  ,  60.3670671093131  ,  9.244924566502942  ,  7.15199022792412  ,  18.795476023617596  ,  0.0   ,  100.85976069780772  ,  145.45714687181828  ,  110.77699076223915  ,  109.57664834630758  ,  119.49458658415827  ,  320.52801479727015  ,  782.667869751429  ,  1450.522537532136  ,  2078.337599711293  ,  2707.8730634117264  ,  1788.407001019485  ,  138.48506469098749  ,  0.0  ,  0.0  ,  0.0  ,  0.0  ,  0.0  ,  0.0  ,  0.0  ,  8.911431578377503   ] ,\n",
        "\n",
        "\n",
        "    [ 188.68596242996878  ,  230.2625921384074  ,  110.82932127093126  ,  63.350450074894816  ,  62.44849480042931  ,  23.223527042324527  ,  27.95642366955687  ,  100.13646233493462  ,  133.79745391269086  ,  159.32103427765267  ,  395.3338172633494  ,  40.752411551321494  ,  12.654221644151587  ,  13.425071591119629  ,  17.20612423878393  ,  17.947912064980805  ,  13.458474003293633  ,  8.433399487007096  ,  12.256783065097137  ,  76.0020516780109  , 0.0  ,  0.0  ,  0.0  ,  7.69472192589658  ,  12.537953036088075  ,  8.384589622908043  ,  0.0  ,  7.995484868769584  ,  35.96669575042627  ,  131.54008585911845  ,  325.7587777329875  ,  21.230103894732757  ,  0.0  ,  0.0  ,  0.0  ,  0.0  ,  0.0  ,  0.0  ,  0.0  ,  19.179057563011337    ] ,\n",
        "    [ 132.34707898674307  ,  175.03157420527975  ,  107.33563460632826  ,  78.67494388949638  ,  82.16726328682653  ,  62.89947243766207  ,  87.47821675912645  ,  163.52535903171025  ,  168.97016638748588  ,  159.12688887168684  ,  391.97336911289165  ,  40.728826693923274  ,  8.27073755842721  ,  15.832909329402456  ,  16.952057075157867  ,  17.220671451508373  ,  7.388777556694485  ,  2.266942794655638  ,  9.595329399687976  ,  75.74916092433817  , 0.0  ,  0.0  ,  0.0  ,  7.696410314712668  ,  12.541487617781565  ,  8.387400011519919  ,  0.0  ,  0.0  ,  0.0  ,  65.43281433250125  ,  291.27530898834004  ,  24.4088931743747  ,  0.0  ,  0.0  ,  0.0  ,  0.0  ,  0.0  ,  0.0  ,  0.0  ,  18.449466462655117    ] ,\n",
        "    [ 152.08101817883042  ,  211.0617613920544  ,  71.93988058136405  ,  18.714164395086186  ,  0.0  ,  0.0  ,  16.34629043930121  ,  100.16163294157296  ,  133.86249306900154  ,  159.59350200235144  ,  398.4101706856057  ,  41.072963940633315  ,  18.512624764152733  ,  15.577534730206448  ,  11.817081314198308  ,  18.518436309755295  ,  23.92062101901255  ,  0.3090100552798002  ,  32.50183127611344  ,  75.66609764816052  ,  0.0  ,  0.0  ,  0.0  ,  7.692014758036636  ,  16.64506043301301  ,  32.990901117723595  ,  36.228080729258146  ,  51.8175317197001  ,  80.55429006311856  ,  188.34174048796393  ,  354.38418582152894  ,  23.96780635633119  ,  0.0  ,  0.0  ,  0.0  ,  0.0  ,  0.0  ,  0.0  ,  0.0  ,  13.68605549430295    ]\n",
        "\n",
        " ] ;\n",
        "\n",
        "y = [\n",
        "     0.0 ,\n",
        "     0.0 ,\n",
        "     0.0 ,\n",
        "\n",
        "     1.0 ,\n",
        "     1.0 ,\n",
        "     1.0\n",
        " ] ;"
      ],
      "metadata": {
        "id": "LM_JGtXLbupS"
      },
      "execution_count": 23,
      "outputs": []
    },
    {
      "cell_type": "code",
      "source": [
        "print(np.array(x).shape)\n",
        "print(np.array(y).shape)"
      ],
      "metadata": {
        "colab": {
          "base_uri": "https://localhost:8080/"
        },
        "id": "rJaCZQIv0ft1",
        "outputId": "8bb71c87-aede-466f-92e6-eb8953c4dbf5"
      },
      "execution_count": 24,
      "outputs": [
        {
          "output_type": "stream",
          "name": "stdout",
          "text": [
            "(6, 40)\n",
            "(6,)\n"
          ]
        }
      ]
    },
    {
      "cell_type": "code",
      "source": [
        "a = [ x[0] ,  x[3] ] ;\n",
        "b = [ y[0] ,  y[3] ] ;"
      ],
      "metadata": {
        "id": "sD1jj6I4-X0W"
      },
      "execution_count": 25,
      "outputs": []
    },
    {
      "cell_type": "code",
      "source": [
        "dataset_x = []\n",
        "dataset_y = []\n",
        "\n",
        "for k in range(len(a)):\n",
        "      data = a[k]\n",
        "      for i in range(300):\n",
        "            nx = []\n",
        "            for j in range(len(data)):\n",
        "                  nx.append(data[j] + (2.1 * random.random())) ;\n",
        "            dataset_x.append(nx) ;\n",
        "            dataset_y.append(b[k]) ;\n",
        "\n",
        "print(np.array(dataset_x).shape)\n",
        "print(np.array(dataset_y).shape)"
      ],
      "metadata": {
        "id": "D37xad9xARaB",
        "outputId": "8b42a1b9-1eed-47c7-c1a2-b07185681a36",
        "colab": {
          "base_uri": "https://localhost:8080/"
        }
      },
      "execution_count": 26,
      "outputs": [
        {
          "output_type": "stream",
          "name": "stdout",
          "text": [
            "(600, 40)\n",
            "(600,)\n"
          ]
        }
      ]
    },
    {
      "cell_type": "code",
      "source": [
        "clfPowerful = MLPClassifier(solver='lbfgs', alpha=1e-5,\n",
        "                    hidden_layer_sizes=(160,160,160,100,80,50), random_state=1)"
      ],
      "metadata": {
        "id": "EDq44RFd1Ejk"
      },
      "execution_count": 27,
      "outputs": []
    },
    {
      "cell_type": "code",
      "source": [
        "clfPowerful.fit(dataset_x, dataset_y)"
      ],
      "metadata": {
        "colab": {
          "base_uri": "https://localhost:8080/",
          "height": 92
        },
        "id": "1i8I8SM-2Qce",
        "outputId": "84154ab1-1bc1-4a46-b301-938b41097b2c"
      },
      "execution_count": 28,
      "outputs": [
        {
          "output_type": "execute_result",
          "data": {
            "text/plain": [
              "MLPClassifier(alpha=1e-05, hidden_layer_sizes=(160, 160, 160, 100, 80, 50),\n",
              "              random_state=1, solver='lbfgs')"
            ],
            "text/html": [
              "<style>#sk-container-id-2 {color: black;background-color: white;}#sk-container-id-2 pre{padding: 0;}#sk-container-id-2 div.sk-toggleable {background-color: white;}#sk-container-id-2 label.sk-toggleable__label {cursor: pointer;display: block;width: 100%;margin-bottom: 0;padding: 0.3em;box-sizing: border-box;text-align: center;}#sk-container-id-2 label.sk-toggleable__label-arrow:before {content: \"▸\";float: left;margin-right: 0.25em;color: #696969;}#sk-container-id-2 label.sk-toggleable__label-arrow:hover:before {color: black;}#sk-container-id-2 div.sk-estimator:hover label.sk-toggleable__label-arrow:before {color: black;}#sk-container-id-2 div.sk-toggleable__content {max-height: 0;max-width: 0;overflow: hidden;text-align: left;background-color: #f0f8ff;}#sk-container-id-2 div.sk-toggleable__content pre {margin: 0.2em;color: black;border-radius: 0.25em;background-color: #f0f8ff;}#sk-container-id-2 input.sk-toggleable__control:checked~div.sk-toggleable__content {max-height: 200px;max-width: 100%;overflow: auto;}#sk-container-id-2 input.sk-toggleable__control:checked~label.sk-toggleable__label-arrow:before {content: \"▾\";}#sk-container-id-2 div.sk-estimator input.sk-toggleable__control:checked~label.sk-toggleable__label {background-color: #d4ebff;}#sk-container-id-2 div.sk-label input.sk-toggleable__control:checked~label.sk-toggleable__label {background-color: #d4ebff;}#sk-container-id-2 input.sk-hidden--visually {border: 0;clip: rect(1px 1px 1px 1px);clip: rect(1px, 1px, 1px, 1px);height: 1px;margin: -1px;overflow: hidden;padding: 0;position: absolute;width: 1px;}#sk-container-id-2 div.sk-estimator {font-family: monospace;background-color: #f0f8ff;border: 1px dotted black;border-radius: 0.25em;box-sizing: border-box;margin-bottom: 0.5em;}#sk-container-id-2 div.sk-estimator:hover {background-color: #d4ebff;}#sk-container-id-2 div.sk-parallel-item::after {content: \"\";width: 100%;border-bottom: 1px solid gray;flex-grow: 1;}#sk-container-id-2 div.sk-label:hover label.sk-toggleable__label {background-color: #d4ebff;}#sk-container-id-2 div.sk-serial::before {content: \"\";position: absolute;border-left: 1px solid gray;box-sizing: border-box;top: 0;bottom: 0;left: 50%;z-index: 0;}#sk-container-id-2 div.sk-serial {display: flex;flex-direction: column;align-items: center;background-color: white;padding-right: 0.2em;padding-left: 0.2em;position: relative;}#sk-container-id-2 div.sk-item {position: relative;z-index: 1;}#sk-container-id-2 div.sk-parallel {display: flex;align-items: stretch;justify-content: center;background-color: white;position: relative;}#sk-container-id-2 div.sk-item::before, #sk-container-id-2 div.sk-parallel-item::before {content: \"\";position: absolute;border-left: 1px solid gray;box-sizing: border-box;top: 0;bottom: 0;left: 50%;z-index: -1;}#sk-container-id-2 div.sk-parallel-item {display: flex;flex-direction: column;z-index: 1;position: relative;background-color: white;}#sk-container-id-2 div.sk-parallel-item:first-child::after {align-self: flex-end;width: 50%;}#sk-container-id-2 div.sk-parallel-item:last-child::after {align-self: flex-start;width: 50%;}#sk-container-id-2 div.sk-parallel-item:only-child::after {width: 0;}#sk-container-id-2 div.sk-dashed-wrapped {border: 1px dashed gray;margin: 0 0.4em 0.5em 0.4em;box-sizing: border-box;padding-bottom: 0.4em;background-color: white;}#sk-container-id-2 div.sk-label label {font-family: monospace;font-weight: bold;display: inline-block;line-height: 1.2em;}#sk-container-id-2 div.sk-label-container {text-align: center;}#sk-container-id-2 div.sk-container {/* jupyter's `normalize.less` sets `[hidden] { display: none; }` but bootstrap.min.css set `[hidden] { display: none !important; }` so we also need the `!important` here to be able to override the default hidden behavior on the sphinx rendered scikit-learn.org. See: https://github.com/scikit-learn/scikit-learn/issues/21755 */display: inline-block !important;position: relative;}#sk-container-id-2 div.sk-text-repr-fallback {display: none;}</style><div id=\"sk-container-id-2\" class=\"sk-top-container\"><div class=\"sk-text-repr-fallback\"><pre>MLPClassifier(alpha=1e-05, hidden_layer_sizes=(160, 160, 160, 100, 80, 50),\n",
              "              random_state=1, solver=&#x27;lbfgs&#x27;)</pre><b>In a Jupyter environment, please rerun this cell to show the HTML representation or trust the notebook. <br />On GitHub, the HTML representation is unable to render, please try loading this page with nbviewer.org.</b></div><div class=\"sk-container\" hidden><div class=\"sk-item\"><div class=\"sk-estimator sk-toggleable\"><input class=\"sk-toggleable__control sk-hidden--visually\" id=\"sk-estimator-id-2\" type=\"checkbox\" checked><label for=\"sk-estimator-id-2\" class=\"sk-toggleable__label sk-toggleable__label-arrow\">MLPClassifier</label><div class=\"sk-toggleable__content\"><pre>MLPClassifier(alpha=1e-05, hidden_layer_sizes=(160, 160, 160, 100, 80, 50),\n",
              "              random_state=1, solver=&#x27;lbfgs&#x27;)</pre></div></div></div></div></div>"
            ]
          },
          "metadata": {},
          "execution_count": 28
        }
      ]
    },
    {
      "cell_type": "code",
      "source": [
        "x_test = [  x[1] , x[2] , x[4] , x[5]  ] ;"
      ],
      "metadata": {
        "id": "5pM5pBVN-9ye"
      },
      "execution_count": 29,
      "outputs": []
    },
    {
      "cell_type": "code",
      "source": [
        "print(np.array(x_test).shape)"
      ],
      "metadata": {
        "colab": {
          "base_uri": "https://localhost:8080/"
        },
        "id": "5MoTIuyx0LYo",
        "outputId": "4a295953-154a-4e57-e109-2337f59bb1f5"
      },
      "execution_count": 30,
      "outputs": [
        {
          "output_type": "stream",
          "name": "stdout",
          "text": [
            "(4, 40)\n"
          ]
        }
      ]
    },
    {
      "cell_type": "code",
      "source": [
        "clfPowerful.predict(x_test)"
      ],
      "metadata": {
        "colab": {
          "base_uri": "https://localhost:8080/"
        },
        "id": "ovOcYOiZ1qfA",
        "outputId": "730aab15-2373-43a0-c945-8341f901829f"
      },
      "execution_count": 32,
      "outputs": [
        {
          "output_type": "execute_result",
          "data": {
            "text/plain": [
              "array([0., 0., 1., 1.])"
            ]
          },
          "metadata": {},
          "execution_count": 32
        }
      ]
    },
    {
      "cell_type": "markdown",
      "source": [
        "***Accuracy = 100%***"
      ],
      "metadata": {
        "id": "g1Rz0wV_DQ3f"
      }
    },
    {
      "cell_type": "code",
      "source": [
        "dataset_x_test = x_test ;\n",
        "dataset_y_test = [ 0.0,0.0,\n",
        "                   1.0,1.0 ] ;\n",
        "\n",
        "testX = []\n",
        "testY = []\n",
        "\n",
        "for k in range(len(dataset_x_test)):\n",
        "      data = dataset_x_test[k]\n",
        "      for i in range(50):\n",
        "            nx = []\n",
        "            for j in range(len(data)):\n",
        "                  nx.append(data[j] + (2.3 * random.random())) ;\n",
        "            testX.append(nx) ;\n",
        "            testY.append(dataset_y_test[k]) ;\n",
        "\n",
        "print(np.array(testX).shape)\n",
        "print(np.array(testY).shape)"
      ],
      "metadata": {
        "id": "2MToktS5DQCp",
        "outputId": "6cdccaca-4c93-4248-969d-aed1a73ddd3d",
        "colab": {
          "base_uri": "https://localhost:8080/"
        }
      },
      "execution_count": 33,
      "outputs": [
        {
          "output_type": "stream",
          "name": "stdout",
          "text": [
            "(200, 40)\n",
            "(200,)\n"
          ]
        }
      ]
    },
    {
      "cell_type": "code",
      "source": [
        "preds = clfPowerful.predict(testX)"
      ],
      "metadata": {
        "id": "zTTuR2pSEDpK"
      },
      "execution_count": 34,
      "outputs": []
    },
    {
      "cell_type": "code",
      "source": [
        "correct = 0\n",
        "wrong = 0\n",
        "for i in range(len(preds)):\n",
        "    if(preds[i] == testY[i]):\n",
        "        correct += 1 ;\n",
        "    else:\n",
        "        wrong += 1 ;\n",
        "\n",
        "\n",
        "print(\"Corrects = \" + str(correct)) ;\n",
        "print(\"Wrongs = \" + str(wrong)) ;"
      ],
      "metadata": {
        "id": "N54gMvsLEJUe",
        "outputId": "9daf9add-7528-4ee6-ea8e-9ec986564e0f",
        "colab": {
          "base_uri": "https://localhost:8080/"
        }
      },
      "execution_count": 35,
      "outputs": [
        {
          "output_type": "stream",
          "name": "stdout",
          "text": [
            "Corrects = 200\n",
            "Wrongs = 0\n"
          ]
        }
      ]
    },
    {
      "cell_type": "markdown",
      "source": [
        "***Again, accuracy = 100.00 % ***"
      ],
      "metadata": {
        "id": "0pUHm6fFErse"
      }
    },
    {
      "cell_type": "markdown",
      "source": [
        "Sina Saadati\n",
        "\n",
        "autmedical@gmail.com\n"
      ],
      "metadata": {
        "id": "SXMLwmNRC6YX"
      }
    }
  ],
  "metadata": {
    "colab": {
      "provenance": []
    },
    "kernelspec": {
      "display_name": "Python 3",
      "name": "python3"
    }
  },
  "nbformat": 4,
  "nbformat_minor": 0
}