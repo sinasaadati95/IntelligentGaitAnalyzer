{
  "cells": [
    {
      "cell_type": "code",
      "source": [
        "from sklearn.neural_network import MLPClassifier\n",
        "import math\n",
        "import random\n",
        "import numpy as np"
      ],
      "metadata": {
        "id": "2YqC820Kzv9x"
      },
      "execution_count": 1,
      "outputs": []
    },
    {
      "cell_type": "code",
      "source": [
        "x = [\n",
        "    [ 98.10000000000001 , 99.4 , 100.80000000000001 , 102.7 , 105.5 , 109.9 , 116.2 , 125.2 , 136.3 , 146 , 141.3 , 133.8 , 118.9 , 102 , 77 , 63.900000000000006 , 63.400000000000006 , 70.5 , 76.5 , 79.60000000000001] ,\n",
        "    [ 96.60000000000001 , 96.9 , 98.2 , 100.7 , 104.7 , 110.5 , 118.5 , 128 , 137.5 , 139.1 , 132.3 , 124.60000000000001 , 109.80000000000001 , 95.80000000000001 , 73.3 , 63.2 , 65.5 , 75.3 , 81.2 , 83  ] ,\n",
        "    [ 101 , 102 , 102.60000000000001 , 103.9 , 105 , 107.4 , 111.30000000000001 , 116.5 , 123.9 , 132 , 142.4 , 144.6 , 140.20000000000002 , 129.4 , 115.10000000000001 , 104.30000000000001 , 69.9 , 64 , 62.800000000000004 , 70.3] ,\n",
        "\n",
        "    [ 91.80000000000001 , 94.2 , 96.4 , 97.9 , 98.80000000000001 , 99.9 , 100.4 , 100.5 , 100.4 , 100.30000000000001 , 100.2 , 100.30000000000001 , 101.10000000000001 , 104 , 104.80000000000001 , 101.5 , 96.60000000000001 , 93 , 90.60000000000001 , 88.4  ] ,\n",
        "    [ 94.7 , 95.7 , 96.5 , 97.5 , 98.30000000000001 , 98.9 , 98.9 , 98.7 , 98.60000000000001 , 98.7 , 98.5 , 100.2 , 103.5 , 106 , 101.10000000000001 , 93.10000000000001 , 85.4 , 83.4 , 84.2 , 85.80000000000001 ] ,\n",
        "    [ 93.80000000000001 , 94.7 , 97.4 , 99 , 100.5 , 101.10000000000001 , 101.60000000000001 , 101.60000000000001 , 101.5 , 101.7 , 101.60000000000001 , 101.60000000000001 , 101.60000000000001 , 102.80000000000001 , 106.80000000000001 , 109.30000000000001 , 104.30000000000001 , 96.7 , 95 , 84  ]\n",
        "\n",
        " ]\n",
        "\n",
        "y = [\n",
        "     0.0 ,\n",
        "     0.0 ,\n",
        "     0.0 ,\n",
        "\n",
        "     1.0 ,\n",
        "     1.0 ,\n",
        "     1.0\n",
        " ]"
      ],
      "metadata": {
        "id": "LM_JGtXLbupS"
      },
      "execution_count": 3,
      "outputs": []
    },
    {
      "cell_type": "code",
      "source": [
        "print(np.array(x).shape)\n",
        "print(np.array(y).shape)"
      ],
      "metadata": {
        "colab": {
          "base_uri": "https://localhost:8080/"
        },
        "id": "rJaCZQIv0ft1",
        "outputId": "1e50fc8c-3c2d-4e8a-e386-fcd2b9b5c300"
      },
      "execution_count": 4,
      "outputs": [
        {
          "output_type": "stream",
          "name": "stdout",
          "text": [
            "(6, 20)\n",
            "(6,)\n"
          ]
        }
      ]
    },
    {
      "cell_type": "code",
      "source": [
        "a = [ x[0] ,  x[3] ] ;\n",
        "b = [ y[0] ,  y[3] ] ;"
      ],
      "metadata": {
        "id": "sD1jj6I4-X0W"
      },
      "execution_count": 5,
      "outputs": []
    },
    {
      "cell_type": "code",
      "source": [
        "dataset_x = []\n",
        "dataset_y = []\n",
        "\n",
        "for k in range(len(a)):\n",
        "      data = a[k]\n",
        "      for i in range(300):\n",
        "            nx = []\n",
        "            for j in range(len(data)):\n",
        "                  nx.append(data[j] + (2.1 * random.random())) ;\n",
        "            dataset_x.append(nx) ;\n",
        "            dataset_y.append(b[k]) ;\n",
        "\n",
        "print(np.array(dataset_x).shape)\n",
        "print(np.array(dataset_y).shape)"
      ],
      "metadata": {
        "id": "D37xad9xARaB",
        "outputId": "4926c905-ae7b-4a2b-8498-72be08364904",
        "colab": {
          "base_uri": "https://localhost:8080/"
        }
      },
      "execution_count": 7,
      "outputs": [
        {
          "output_type": "stream",
          "name": "stdout",
          "text": [
            "(600, 20)\n",
            "(600,)\n"
          ]
        }
      ]
    },
    {
      "cell_type": "code",
      "source": [
        "clfPowerful = MLPClassifier(solver='lbfgs', alpha=1e-5,\n",
        "                    hidden_layer_sizes=(160,160,160,100,80,50), random_state=1)"
      ],
      "metadata": {
        "id": "EDq44RFd1Ejk"
      },
      "execution_count": 8,
      "outputs": []
    },
    {
      "cell_type": "code",
      "source": [
        "clfWeak = MLPClassifier(solver='lbfgs', alpha=1e-5,\n",
        "                    hidden_layer_sizes=(100,80,50), random_state=1)"
      ],
      "metadata": {
        "id": "Xb64n3Di2VNu"
      },
      "execution_count": null,
      "outputs": []
    },
    {
      "cell_type": "code",
      "source": [
        "clfPowerful.fit(dataset_x, dataset_y)"
      ],
      "metadata": {
        "colab": {
          "base_uri": "https://localhost:8080/",
          "height": 92
        },
        "id": "1i8I8SM-2Qce",
        "outputId": "02596a70-6fe1-4479-c0b3-f4780f523a6d"
      },
      "execution_count": 9,
      "outputs": [
        {
          "output_type": "execute_result",
          "data": {
            "text/plain": [
              "MLPClassifier(alpha=1e-05, hidden_layer_sizes=(160, 160, 160, 100, 80, 50),\n",
              "              random_state=1, solver='lbfgs')"
            ],
            "text/html": [
              "<style>#sk-container-id-1 {color: black;background-color: white;}#sk-container-id-1 pre{padding: 0;}#sk-container-id-1 div.sk-toggleable {background-color: white;}#sk-container-id-1 label.sk-toggleable__label {cursor: pointer;display: block;width: 100%;margin-bottom: 0;padding: 0.3em;box-sizing: border-box;text-align: center;}#sk-container-id-1 label.sk-toggleable__label-arrow:before {content: \"▸\";float: left;margin-right: 0.25em;color: #696969;}#sk-container-id-1 label.sk-toggleable__label-arrow:hover:before {color: black;}#sk-container-id-1 div.sk-estimator:hover label.sk-toggleable__label-arrow:before {color: black;}#sk-container-id-1 div.sk-toggleable__content {max-height: 0;max-width: 0;overflow: hidden;text-align: left;background-color: #f0f8ff;}#sk-container-id-1 div.sk-toggleable__content pre {margin: 0.2em;color: black;border-radius: 0.25em;background-color: #f0f8ff;}#sk-container-id-1 input.sk-toggleable__control:checked~div.sk-toggleable__content {max-height: 200px;max-width: 100%;overflow: auto;}#sk-container-id-1 input.sk-toggleable__control:checked~label.sk-toggleable__label-arrow:before {content: \"▾\";}#sk-container-id-1 div.sk-estimator input.sk-toggleable__control:checked~label.sk-toggleable__label {background-color: #d4ebff;}#sk-container-id-1 div.sk-label input.sk-toggleable__control:checked~label.sk-toggleable__label {background-color: #d4ebff;}#sk-container-id-1 input.sk-hidden--visually {border: 0;clip: rect(1px 1px 1px 1px);clip: rect(1px, 1px, 1px, 1px);height: 1px;margin: -1px;overflow: hidden;padding: 0;position: absolute;width: 1px;}#sk-container-id-1 div.sk-estimator {font-family: monospace;background-color: #f0f8ff;border: 1px dotted black;border-radius: 0.25em;box-sizing: border-box;margin-bottom: 0.5em;}#sk-container-id-1 div.sk-estimator:hover {background-color: #d4ebff;}#sk-container-id-1 div.sk-parallel-item::after {content: \"\";width: 100%;border-bottom: 1px solid gray;flex-grow: 1;}#sk-container-id-1 div.sk-label:hover label.sk-toggleable__label {background-color: #d4ebff;}#sk-container-id-1 div.sk-serial::before {content: \"\";position: absolute;border-left: 1px solid gray;box-sizing: border-box;top: 0;bottom: 0;left: 50%;z-index: 0;}#sk-container-id-1 div.sk-serial {display: flex;flex-direction: column;align-items: center;background-color: white;padding-right: 0.2em;padding-left: 0.2em;position: relative;}#sk-container-id-1 div.sk-item {position: relative;z-index: 1;}#sk-container-id-1 div.sk-parallel {display: flex;align-items: stretch;justify-content: center;background-color: white;position: relative;}#sk-container-id-1 div.sk-item::before, #sk-container-id-1 div.sk-parallel-item::before {content: \"\";position: absolute;border-left: 1px solid gray;box-sizing: border-box;top: 0;bottom: 0;left: 50%;z-index: -1;}#sk-container-id-1 div.sk-parallel-item {display: flex;flex-direction: column;z-index: 1;position: relative;background-color: white;}#sk-container-id-1 div.sk-parallel-item:first-child::after {align-self: flex-end;width: 50%;}#sk-container-id-1 div.sk-parallel-item:last-child::after {align-self: flex-start;width: 50%;}#sk-container-id-1 div.sk-parallel-item:only-child::after {width: 0;}#sk-container-id-1 div.sk-dashed-wrapped {border: 1px dashed gray;margin: 0 0.4em 0.5em 0.4em;box-sizing: border-box;padding-bottom: 0.4em;background-color: white;}#sk-container-id-1 div.sk-label label {font-family: monospace;font-weight: bold;display: inline-block;line-height: 1.2em;}#sk-container-id-1 div.sk-label-container {text-align: center;}#sk-container-id-1 div.sk-container {/* jupyter's `normalize.less` sets `[hidden] { display: none; }` but bootstrap.min.css set `[hidden] { display: none !important; }` so we also need the `!important` here to be able to override the default hidden behavior on the sphinx rendered scikit-learn.org. See: https://github.com/scikit-learn/scikit-learn/issues/21755 */display: inline-block !important;position: relative;}#sk-container-id-1 div.sk-text-repr-fallback {display: none;}</style><div id=\"sk-container-id-1\" class=\"sk-top-container\"><div class=\"sk-text-repr-fallback\"><pre>MLPClassifier(alpha=1e-05, hidden_layer_sizes=(160, 160, 160, 100, 80, 50),\n",
              "              random_state=1, solver=&#x27;lbfgs&#x27;)</pre><b>In a Jupyter environment, please rerun this cell to show the HTML representation or trust the notebook. <br />On GitHub, the HTML representation is unable to render, please try loading this page with nbviewer.org.</b></div><div class=\"sk-container\" hidden><div class=\"sk-item\"><div class=\"sk-estimator sk-toggleable\"><input class=\"sk-toggleable__control sk-hidden--visually\" id=\"sk-estimator-id-1\" type=\"checkbox\" checked><label for=\"sk-estimator-id-1\" class=\"sk-toggleable__label sk-toggleable__label-arrow\">MLPClassifier</label><div class=\"sk-toggleable__content\"><pre>MLPClassifier(alpha=1e-05, hidden_layer_sizes=(160, 160, 160, 100, 80, 50),\n",
              "              random_state=1, solver=&#x27;lbfgs&#x27;)</pre></div></div></div></div></div>"
            ]
          },
          "metadata": {},
          "execution_count": 9
        }
      ]
    },
    {
      "cell_type": "code",
      "source": [
        "x_test = [  x[1] , x[2] , x[4] , x[5]  ] ;"
      ],
      "metadata": {
        "id": "5pM5pBVN-9ye"
      },
      "execution_count": 10,
      "outputs": []
    },
    {
      "cell_type": "code",
      "source": [
        "print(np.array(x_test).shape)"
      ],
      "metadata": {
        "colab": {
          "base_uri": "https://localhost:8080/"
        },
        "id": "5MoTIuyx0LYo",
        "outputId": "da1f9df4-17e7-4d5b-857c-a77b415e0597"
      },
      "execution_count": 11,
      "outputs": [
        {
          "output_type": "stream",
          "name": "stdout",
          "text": [
            "(4, 20)\n"
          ]
        }
      ]
    },
    {
      "cell_type": "code",
      "source": [
        "clfPowerful.predict(x_test)"
      ],
      "metadata": {
        "colab": {
          "base_uri": "https://localhost:8080/"
        },
        "id": "ovOcYOiZ1qfA",
        "outputId": "ca39f0f9-af36-41cd-f3aa-3fb3c259716f"
      },
      "execution_count": 12,
      "outputs": [
        {
          "output_type": "execute_result",
          "data": {
            "text/plain": [
              "array([0., 0., 1., 1.])"
            ]
          },
          "metadata": {},
          "execution_count": 12
        }
      ]
    },
    {
      "cell_type": "markdown",
      "source": [
        "***Accuracy = 100%***"
      ],
      "metadata": {
        "id": "g1Rz0wV_DQ3f"
      }
    },
    {
      "cell_type": "code",
      "source": [
        "dataset_x_test = x_test ;\n",
        "dataset_y_test = [ 0.0,0.0,\n",
        "                   1.0,1.0 ] ;\n",
        "\n",
        "testX = []\n",
        "testY = []\n",
        "\n",
        "for k in range(len(dataset_x_test)):\n",
        "      data = dataset_x_test[k]\n",
        "      for i in range(50):\n",
        "            nx = []\n",
        "            for j in range(len(data)):\n",
        "                  nx.append(data[j] + (2.3 * random.random())) ;\n",
        "            testX.append(nx) ;\n",
        "            testY.append(dataset_y_test[k]) ;\n",
        "\n",
        "print(np.array(testX).shape)\n",
        "print(np.array(testY).shape)"
      ],
      "metadata": {
        "id": "2MToktS5DQCp",
        "outputId": "ec6c3924-c14c-4338-e4f1-a32cdd04359f",
        "colab": {
          "base_uri": "https://localhost:8080/"
        }
      },
      "execution_count": 15,
      "outputs": [
        {
          "output_type": "stream",
          "name": "stdout",
          "text": [
            "(200, 20)\n",
            "(200,)\n"
          ]
        }
      ]
    },
    {
      "cell_type": "code",
      "source": [
        "preds = clfPowerful.predict(testX)"
      ],
      "metadata": {
        "id": "zTTuR2pSEDpK"
      },
      "execution_count": 16,
      "outputs": []
    },
    {
      "cell_type": "code",
      "source": [
        "correct = 0\n",
        "wrong = 0\n",
        "for i in range(len(preds)):\n",
        "    if(preds[i] == testY[i]):\n",
        "        correct += 1 ;\n",
        "    else:\n",
        "        wrong += 1 ;\n",
        "\n",
        "\n",
        "print(\"Corrects = \" + str(correct)) ;\n",
        "print(\"Wrongs = \" + str(wrong)) ;"
      ],
      "metadata": {
        "id": "N54gMvsLEJUe",
        "outputId": "c126a108-155c-4b36-fd32-321e14ea222e",
        "colab": {
          "base_uri": "https://localhost:8080/"
        }
      },
      "execution_count": 17,
      "outputs": [
        {
          "output_type": "stream",
          "name": "stdout",
          "text": [
            "Corrects = 200\n",
            "Wrongs = 0\n"
          ]
        }
      ]
    },
    {
      "cell_type": "markdown",
      "source": [
        "***Again, accuracy = 100.00 % ***"
      ],
      "metadata": {
        "id": "0pUHm6fFErse"
      }
    },
    {
      "cell_type": "markdown",
      "source": [
        "Sina Saadati\n",
        "\n",
        "autmedical@gmail.com\n"
      ],
      "metadata": {
        "id": "SXMLwmNRC6YX"
      }
    }
  ],
  "metadata": {
    "colab": {
      "provenance": []
    },
    "kernelspec": {
      "display_name": "Python 3",
      "name": "python3"
    }
  },
  "nbformat": 4,
  "nbformat_minor": 0
}